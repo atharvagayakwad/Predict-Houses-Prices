{
 "cells": [
  {
   "cell_type": "code",
   "execution_count": 3,
   "id": "e4489f71",
   "metadata": {},
   "outputs": [],
   "source": [
    "import pandas as pd \n",
    "import numpy as np \n",
    "import matplotlib.pyplot as plt\n",
    "import seaborn as sns\n",
    "plt.style.use('classic')"
   ]
  },
  {
   "cell_type": "markdown",
   "id": "5fa4af84",
   "metadata": {},
   "source": [
    "# Importing the Data"
   ]
  },
  {
   "cell_type": "code",
   "execution_count": 4,
   "id": "39de8c32",
   "metadata": {},
   "outputs": [
    {
     "data": {
      "text/html": [
       "<div>\n",
       "<style scoped>\n",
       "    .dataframe tbody tr th:only-of-type {\n",
       "        vertical-align: middle;\n",
       "    }\n",
       "\n",
       "    .dataframe tbody tr th {\n",
       "        vertical-align: top;\n",
       "    }\n",
       "\n",
       "    .dataframe thead th {\n",
       "        text-align: right;\n",
       "    }\n",
       "</style>\n",
       "<table border=\"1\" class=\"dataframe\">\n",
       "  <thead>\n",
       "    <tr style=\"text-align: right;\">\n",
       "      <th></th>\n",
       "      <th>id</th>\n",
       "      <th>date</th>\n",
       "      <th>price</th>\n",
       "      <th>bedrooms</th>\n",
       "      <th>bathrooms</th>\n",
       "      <th>sqft_living</th>\n",
       "      <th>sqft_lot</th>\n",
       "      <th>floors</th>\n",
       "      <th>waterfront</th>\n",
       "      <th>view</th>\n",
       "      <th>...</th>\n",
       "      <th>grade</th>\n",
       "      <th>sqft_above</th>\n",
       "      <th>sqft_basement</th>\n",
       "      <th>yr_built</th>\n",
       "      <th>yr_renovated</th>\n",
       "      <th>zipcode</th>\n",
       "      <th>lat</th>\n",
       "      <th>long</th>\n",
       "      <th>sqft_living15</th>\n",
       "      <th>sqft_lot15</th>\n",
       "    </tr>\n",
       "  </thead>\n",
       "  <tbody>\n",
       "    <tr>\n",
       "      <th>0</th>\n",
       "      <td>7129300520</td>\n",
       "      <td>20141013T000000</td>\n",
       "      <td>221900.0</td>\n",
       "      <td>3</td>\n",
       "      <td>1.00</td>\n",
       "      <td>1180</td>\n",
       "      <td>5650</td>\n",
       "      <td>1.0</td>\n",
       "      <td>0</td>\n",
       "      <td>0</td>\n",
       "      <td>...</td>\n",
       "      <td>7</td>\n",
       "      <td>1180</td>\n",
       "      <td>0</td>\n",
       "      <td>1955</td>\n",
       "      <td>0</td>\n",
       "      <td>98178</td>\n",
       "      <td>47.5112</td>\n",
       "      <td>-122.257</td>\n",
       "      <td>1340</td>\n",
       "      <td>5650</td>\n",
       "    </tr>\n",
       "    <tr>\n",
       "      <th>1</th>\n",
       "      <td>6414100192</td>\n",
       "      <td>20141209T000000</td>\n",
       "      <td>538000.0</td>\n",
       "      <td>3</td>\n",
       "      <td>2.25</td>\n",
       "      <td>2570</td>\n",
       "      <td>7242</td>\n",
       "      <td>2.0</td>\n",
       "      <td>0</td>\n",
       "      <td>0</td>\n",
       "      <td>...</td>\n",
       "      <td>7</td>\n",
       "      <td>2170</td>\n",
       "      <td>400</td>\n",
       "      <td>1951</td>\n",
       "      <td>1991</td>\n",
       "      <td>98125</td>\n",
       "      <td>47.7210</td>\n",
       "      <td>-122.319</td>\n",
       "      <td>1690</td>\n",
       "      <td>7639</td>\n",
       "    </tr>\n",
       "    <tr>\n",
       "      <th>2</th>\n",
       "      <td>5631500400</td>\n",
       "      <td>20150225T000000</td>\n",
       "      <td>180000.0</td>\n",
       "      <td>2</td>\n",
       "      <td>1.00</td>\n",
       "      <td>770</td>\n",
       "      <td>10000</td>\n",
       "      <td>1.0</td>\n",
       "      <td>0</td>\n",
       "      <td>0</td>\n",
       "      <td>...</td>\n",
       "      <td>6</td>\n",
       "      <td>770</td>\n",
       "      <td>0</td>\n",
       "      <td>1933</td>\n",
       "      <td>0</td>\n",
       "      <td>98028</td>\n",
       "      <td>47.7379</td>\n",
       "      <td>-122.233</td>\n",
       "      <td>2720</td>\n",
       "      <td>8062</td>\n",
       "    </tr>\n",
       "    <tr>\n",
       "      <th>3</th>\n",
       "      <td>2487200875</td>\n",
       "      <td>20141209T000000</td>\n",
       "      <td>604000.0</td>\n",
       "      <td>4</td>\n",
       "      <td>3.00</td>\n",
       "      <td>1960</td>\n",
       "      <td>5000</td>\n",
       "      <td>1.0</td>\n",
       "      <td>0</td>\n",
       "      <td>0</td>\n",
       "      <td>...</td>\n",
       "      <td>7</td>\n",
       "      <td>1050</td>\n",
       "      <td>910</td>\n",
       "      <td>1965</td>\n",
       "      <td>0</td>\n",
       "      <td>98136</td>\n",
       "      <td>47.5208</td>\n",
       "      <td>-122.393</td>\n",
       "      <td>1360</td>\n",
       "      <td>5000</td>\n",
       "    </tr>\n",
       "    <tr>\n",
       "      <th>4</th>\n",
       "      <td>1954400510</td>\n",
       "      <td>20150218T000000</td>\n",
       "      <td>510000.0</td>\n",
       "      <td>3</td>\n",
       "      <td>2.00</td>\n",
       "      <td>1680</td>\n",
       "      <td>8080</td>\n",
       "      <td>1.0</td>\n",
       "      <td>0</td>\n",
       "      <td>0</td>\n",
       "      <td>...</td>\n",
       "      <td>8</td>\n",
       "      <td>1680</td>\n",
       "      <td>0</td>\n",
       "      <td>1987</td>\n",
       "      <td>0</td>\n",
       "      <td>98074</td>\n",
       "      <td>47.6168</td>\n",
       "      <td>-122.045</td>\n",
       "      <td>1800</td>\n",
       "      <td>7503</td>\n",
       "    </tr>\n",
       "  </tbody>\n",
       "</table>\n",
       "<p>5 rows × 21 columns</p>\n",
       "</div>"
      ],
      "text/plain": [
       "           id             date     price  bedrooms  bathrooms  sqft_living  \\\n",
       "0  7129300520  20141013T000000  221900.0         3       1.00         1180   \n",
       "1  6414100192  20141209T000000  538000.0         3       2.25         2570   \n",
       "2  5631500400  20150225T000000  180000.0         2       1.00          770   \n",
       "3  2487200875  20141209T000000  604000.0         4       3.00         1960   \n",
       "4  1954400510  20150218T000000  510000.0         3       2.00         1680   \n",
       "\n",
       "   sqft_lot  floors  waterfront  view  ...  grade  sqft_above  sqft_basement  \\\n",
       "0      5650     1.0           0     0  ...      7        1180              0   \n",
       "1      7242     2.0           0     0  ...      7        2170            400   \n",
       "2     10000     1.0           0     0  ...      6         770              0   \n",
       "3      5000     1.0           0     0  ...      7        1050            910   \n",
       "4      8080     1.0           0     0  ...      8        1680              0   \n",
       "\n",
       "   yr_built  yr_renovated  zipcode      lat     long  sqft_living15  \\\n",
       "0      1955             0    98178  47.5112 -122.257           1340   \n",
       "1      1951          1991    98125  47.7210 -122.319           1690   \n",
       "2      1933             0    98028  47.7379 -122.233           2720   \n",
       "3      1965             0    98136  47.5208 -122.393           1360   \n",
       "4      1987             0    98074  47.6168 -122.045           1800   \n",
       "\n",
       "   sqft_lot15  \n",
       "0        5650  \n",
       "1        7639  \n",
       "2        8062  \n",
       "3        5000  \n",
       "4        7503  \n",
       "\n",
       "[5 rows x 21 columns]"
      ]
     },
     "execution_count": 4,
     "metadata": {},
     "output_type": "execute_result"
    }
   ],
   "source": [
    "df = pd.read_csv('kc_house_data.csv')\n",
    "df.head()"
   ]
  },
  {
   "cell_type": "markdown",
   "id": "e890e5a0",
   "metadata": {},
   "source": [
    "### Predict the price of house based on the following features"
   ]
  },
  {
   "cell_type": "markdown",
   "id": "1199da9e",
   "metadata": {},
   "source": [
    "# Exploratory Data Analysis"
   ]
  },
  {
   "cell_type": "code",
   "execution_count": 5,
   "id": "19e25bd5",
   "metadata": {},
   "outputs": [
    {
     "data": {
      "text/plain": [
       "(21613, 21)"
      ]
     },
     "execution_count": 5,
     "metadata": {},
     "output_type": "execute_result"
    }
   ],
   "source": [
    "df.shape"
   ]
  },
  {
   "cell_type": "code",
   "execution_count": 6,
   "id": "a60f75a2",
   "metadata": {},
   "outputs": [],
   "source": [
    "pd.set_option('display.float_format', lambda x: '%.5f' % x) # doesn't show data in scientific notation"
   ]
  },
  {
   "cell_type": "code",
   "execution_count": 7,
   "id": "076a240c",
   "metadata": {},
   "outputs": [
    {
     "data": {
      "text/html": [
       "<div>\n",
       "<style scoped>\n",
       "    .dataframe tbody tr th:only-of-type {\n",
       "        vertical-align: middle;\n",
       "    }\n",
       "\n",
       "    .dataframe tbody tr th {\n",
       "        vertical-align: top;\n",
       "    }\n",
       "\n",
       "    .dataframe thead th {\n",
       "        text-align: right;\n",
       "    }\n",
       "</style>\n",
       "<table border=\"1\" class=\"dataframe\">\n",
       "  <thead>\n",
       "    <tr style=\"text-align: right;\">\n",
       "      <th></th>\n",
       "      <th>count</th>\n",
       "      <th>mean</th>\n",
       "      <th>std</th>\n",
       "      <th>min</th>\n",
       "      <th>25%</th>\n",
       "      <th>50%</th>\n",
       "      <th>75%</th>\n",
       "      <th>max</th>\n",
       "    </tr>\n",
       "  </thead>\n",
       "  <tbody>\n",
       "    <tr>\n",
       "      <th>id</th>\n",
       "      <td>21613.00000</td>\n",
       "      <td>4580301520.86499</td>\n",
       "      <td>2876565571.31205</td>\n",
       "      <td>1000102.00000</td>\n",
       "      <td>2123049194.00000</td>\n",
       "      <td>3904930410.00000</td>\n",
       "      <td>7308900445.00000</td>\n",
       "      <td>9900000190.00000</td>\n",
       "    </tr>\n",
       "    <tr>\n",
       "      <th>price</th>\n",
       "      <td>21613.00000</td>\n",
       "      <td>540088.14177</td>\n",
       "      <td>367127.19648</td>\n",
       "      <td>75000.00000</td>\n",
       "      <td>321950.00000</td>\n",
       "      <td>450000.00000</td>\n",
       "      <td>645000.00000</td>\n",
       "      <td>7700000.00000</td>\n",
       "    </tr>\n",
       "    <tr>\n",
       "      <th>bedrooms</th>\n",
       "      <td>21613.00000</td>\n",
       "      <td>3.37084</td>\n",
       "      <td>0.93006</td>\n",
       "      <td>0.00000</td>\n",
       "      <td>3.00000</td>\n",
       "      <td>3.00000</td>\n",
       "      <td>4.00000</td>\n",
       "      <td>33.00000</td>\n",
       "    </tr>\n",
       "    <tr>\n",
       "      <th>bathrooms</th>\n",
       "      <td>21613.00000</td>\n",
       "      <td>2.11476</td>\n",
       "      <td>0.77016</td>\n",
       "      <td>0.00000</td>\n",
       "      <td>1.75000</td>\n",
       "      <td>2.25000</td>\n",
       "      <td>2.50000</td>\n",
       "      <td>8.00000</td>\n",
       "    </tr>\n",
       "    <tr>\n",
       "      <th>sqft_living</th>\n",
       "      <td>21613.00000</td>\n",
       "      <td>2079.89974</td>\n",
       "      <td>918.44090</td>\n",
       "      <td>290.00000</td>\n",
       "      <td>1427.00000</td>\n",
       "      <td>1910.00000</td>\n",
       "      <td>2550.00000</td>\n",
       "      <td>13540.00000</td>\n",
       "    </tr>\n",
       "    <tr>\n",
       "      <th>sqft_lot</th>\n",
       "      <td>21613.00000</td>\n",
       "      <td>15106.96757</td>\n",
       "      <td>41420.51152</td>\n",
       "      <td>520.00000</td>\n",
       "      <td>5040.00000</td>\n",
       "      <td>7618.00000</td>\n",
       "      <td>10688.00000</td>\n",
       "      <td>1651359.00000</td>\n",
       "    </tr>\n",
       "    <tr>\n",
       "      <th>floors</th>\n",
       "      <td>21613.00000</td>\n",
       "      <td>1.49431</td>\n",
       "      <td>0.53999</td>\n",
       "      <td>1.00000</td>\n",
       "      <td>1.00000</td>\n",
       "      <td>1.50000</td>\n",
       "      <td>2.00000</td>\n",
       "      <td>3.50000</td>\n",
       "    </tr>\n",
       "    <tr>\n",
       "      <th>waterfront</th>\n",
       "      <td>21613.00000</td>\n",
       "      <td>0.00754</td>\n",
       "      <td>0.08652</td>\n",
       "      <td>0.00000</td>\n",
       "      <td>0.00000</td>\n",
       "      <td>0.00000</td>\n",
       "      <td>0.00000</td>\n",
       "      <td>1.00000</td>\n",
       "    </tr>\n",
       "    <tr>\n",
       "      <th>view</th>\n",
       "      <td>21613.00000</td>\n",
       "      <td>0.23430</td>\n",
       "      <td>0.76632</td>\n",
       "      <td>0.00000</td>\n",
       "      <td>0.00000</td>\n",
       "      <td>0.00000</td>\n",
       "      <td>0.00000</td>\n",
       "      <td>4.00000</td>\n",
       "    </tr>\n",
       "    <tr>\n",
       "      <th>condition</th>\n",
       "      <td>21613.00000</td>\n",
       "      <td>3.40943</td>\n",
       "      <td>0.65074</td>\n",
       "      <td>1.00000</td>\n",
       "      <td>3.00000</td>\n",
       "      <td>3.00000</td>\n",
       "      <td>4.00000</td>\n",
       "      <td>5.00000</td>\n",
       "    </tr>\n",
       "    <tr>\n",
       "      <th>grade</th>\n",
       "      <td>21613.00000</td>\n",
       "      <td>7.65687</td>\n",
       "      <td>1.17546</td>\n",
       "      <td>1.00000</td>\n",
       "      <td>7.00000</td>\n",
       "      <td>7.00000</td>\n",
       "      <td>8.00000</td>\n",
       "      <td>13.00000</td>\n",
       "    </tr>\n",
       "    <tr>\n",
       "      <th>sqft_above</th>\n",
       "      <td>21613.00000</td>\n",
       "      <td>1788.39069</td>\n",
       "      <td>828.09098</td>\n",
       "      <td>290.00000</td>\n",
       "      <td>1190.00000</td>\n",
       "      <td>1560.00000</td>\n",
       "      <td>2210.00000</td>\n",
       "      <td>9410.00000</td>\n",
       "    </tr>\n",
       "    <tr>\n",
       "      <th>sqft_basement</th>\n",
       "      <td>21613.00000</td>\n",
       "      <td>291.50905</td>\n",
       "      <td>442.57504</td>\n",
       "      <td>0.00000</td>\n",
       "      <td>0.00000</td>\n",
       "      <td>0.00000</td>\n",
       "      <td>560.00000</td>\n",
       "      <td>4820.00000</td>\n",
       "    </tr>\n",
       "    <tr>\n",
       "      <th>yr_built</th>\n",
       "      <td>21613.00000</td>\n",
       "      <td>1971.00514</td>\n",
       "      <td>29.37341</td>\n",
       "      <td>1900.00000</td>\n",
       "      <td>1951.00000</td>\n",
       "      <td>1975.00000</td>\n",
       "      <td>1997.00000</td>\n",
       "      <td>2015.00000</td>\n",
       "    </tr>\n",
       "    <tr>\n",
       "      <th>yr_renovated</th>\n",
       "      <td>21613.00000</td>\n",
       "      <td>84.40226</td>\n",
       "      <td>401.67924</td>\n",
       "      <td>0.00000</td>\n",
       "      <td>0.00000</td>\n",
       "      <td>0.00000</td>\n",
       "      <td>0.00000</td>\n",
       "      <td>2015.00000</td>\n",
       "    </tr>\n",
       "    <tr>\n",
       "      <th>zipcode</th>\n",
       "      <td>21613.00000</td>\n",
       "      <td>98077.93980</td>\n",
       "      <td>53.50503</td>\n",
       "      <td>98001.00000</td>\n",
       "      <td>98033.00000</td>\n",
       "      <td>98065.00000</td>\n",
       "      <td>98118.00000</td>\n",
       "      <td>98199.00000</td>\n",
       "    </tr>\n",
       "    <tr>\n",
       "      <th>lat</th>\n",
       "      <td>21613.00000</td>\n",
       "      <td>47.56005</td>\n",
       "      <td>0.13856</td>\n",
       "      <td>47.15590</td>\n",
       "      <td>47.47100</td>\n",
       "      <td>47.57180</td>\n",
       "      <td>47.67800</td>\n",
       "      <td>47.77760</td>\n",
       "    </tr>\n",
       "    <tr>\n",
       "      <th>long</th>\n",
       "      <td>21613.00000</td>\n",
       "      <td>-122.21390</td>\n",
       "      <td>0.14083</td>\n",
       "      <td>-122.51900</td>\n",
       "      <td>-122.32800</td>\n",
       "      <td>-122.23000</td>\n",
       "      <td>-122.12500</td>\n",
       "      <td>-121.31500</td>\n",
       "    </tr>\n",
       "    <tr>\n",
       "      <th>sqft_living15</th>\n",
       "      <td>21613.00000</td>\n",
       "      <td>1986.55249</td>\n",
       "      <td>685.39130</td>\n",
       "      <td>399.00000</td>\n",
       "      <td>1490.00000</td>\n",
       "      <td>1840.00000</td>\n",
       "      <td>2360.00000</td>\n",
       "      <td>6210.00000</td>\n",
       "    </tr>\n",
       "    <tr>\n",
       "      <th>sqft_lot15</th>\n",
       "      <td>21613.00000</td>\n",
       "      <td>12768.45565</td>\n",
       "      <td>27304.17963</td>\n",
       "      <td>651.00000</td>\n",
       "      <td>5100.00000</td>\n",
       "      <td>7620.00000</td>\n",
       "      <td>10083.00000</td>\n",
       "      <td>871200.00000</td>\n",
       "    </tr>\n",
       "  </tbody>\n",
       "</table>\n",
       "</div>"
      ],
      "text/plain": [
       "                    count             mean              std           min  \\\n",
       "id            21613.00000 4580301520.86499 2876565571.31205 1000102.00000   \n",
       "price         21613.00000     540088.14177     367127.19648   75000.00000   \n",
       "bedrooms      21613.00000          3.37084          0.93006       0.00000   \n",
       "bathrooms     21613.00000          2.11476          0.77016       0.00000   \n",
       "sqft_living   21613.00000       2079.89974        918.44090     290.00000   \n",
       "sqft_lot      21613.00000      15106.96757      41420.51152     520.00000   \n",
       "floors        21613.00000          1.49431          0.53999       1.00000   \n",
       "waterfront    21613.00000          0.00754          0.08652       0.00000   \n",
       "view          21613.00000          0.23430          0.76632       0.00000   \n",
       "condition     21613.00000          3.40943          0.65074       1.00000   \n",
       "grade         21613.00000          7.65687          1.17546       1.00000   \n",
       "sqft_above    21613.00000       1788.39069        828.09098     290.00000   \n",
       "sqft_basement 21613.00000        291.50905        442.57504       0.00000   \n",
       "yr_built      21613.00000       1971.00514         29.37341    1900.00000   \n",
       "yr_renovated  21613.00000         84.40226        401.67924       0.00000   \n",
       "zipcode       21613.00000      98077.93980         53.50503   98001.00000   \n",
       "lat           21613.00000         47.56005          0.13856      47.15590   \n",
       "long          21613.00000       -122.21390          0.14083    -122.51900   \n",
       "sqft_living15 21613.00000       1986.55249        685.39130     399.00000   \n",
       "sqft_lot15    21613.00000      12768.45565      27304.17963     651.00000   \n",
       "\n",
       "                           25%              50%              75%  \\\n",
       "id            2123049194.00000 3904930410.00000 7308900445.00000   \n",
       "price             321950.00000     450000.00000     645000.00000   \n",
       "bedrooms               3.00000          3.00000          4.00000   \n",
       "bathrooms              1.75000          2.25000          2.50000   \n",
       "sqft_living         1427.00000       1910.00000       2550.00000   \n",
       "sqft_lot            5040.00000       7618.00000      10688.00000   \n",
       "floors                 1.00000          1.50000          2.00000   \n",
       "waterfront             0.00000          0.00000          0.00000   \n",
       "view                   0.00000          0.00000          0.00000   \n",
       "condition              3.00000          3.00000          4.00000   \n",
       "grade                  7.00000          7.00000          8.00000   \n",
       "sqft_above          1190.00000       1560.00000       2210.00000   \n",
       "sqft_basement          0.00000          0.00000        560.00000   \n",
       "yr_built            1951.00000       1975.00000       1997.00000   \n",
       "yr_renovated           0.00000          0.00000          0.00000   \n",
       "zipcode            98033.00000      98065.00000      98118.00000   \n",
       "lat                   47.47100         47.57180         47.67800   \n",
       "long                -122.32800       -122.23000       -122.12500   \n",
       "sqft_living15       1490.00000       1840.00000       2360.00000   \n",
       "sqft_lot15          5100.00000       7620.00000      10083.00000   \n",
       "\n",
       "                           max  \n",
       "id            9900000190.00000  \n",
       "price            7700000.00000  \n",
       "bedrooms              33.00000  \n",
       "bathrooms              8.00000  \n",
       "sqft_living        13540.00000  \n",
       "sqft_lot         1651359.00000  \n",
       "floors                 3.50000  \n",
       "waterfront             1.00000  \n",
       "view                   4.00000  \n",
       "condition              5.00000  \n",
       "grade                 13.00000  \n",
       "sqft_above          9410.00000  \n",
       "sqft_basement       4820.00000  \n",
       "yr_built            2015.00000  \n",
       "yr_renovated        2015.00000  \n",
       "zipcode            98199.00000  \n",
       "lat                   47.77760  \n",
       "long                -121.31500  \n",
       "sqft_living15       6210.00000  \n",
       "sqft_lot15        871200.00000  "
      ]
     },
     "execution_count": 7,
     "metadata": {},
     "output_type": "execute_result"
    }
   ],
   "source": [
    "df.describe().transpose()"
   ]
  },
  {
   "cell_type": "code",
   "execution_count": 8,
   "id": "133260df",
   "metadata": {},
   "outputs": [
    {
     "name": "stdout",
     "output_type": "stream",
     "text": [
      "<class 'pandas.core.frame.DataFrame'>\n",
      "RangeIndex: 21613 entries, 0 to 21612\n",
      "Data columns (total 21 columns):\n",
      " #   Column         Non-Null Count  Dtype  \n",
      "---  ------         --------------  -----  \n",
      " 0   id             21613 non-null  int64  \n",
      " 1   date           21613 non-null  object \n",
      " 2   price          21613 non-null  float64\n",
      " 3   bedrooms       21613 non-null  int64  \n",
      " 4   bathrooms      21613 non-null  float64\n",
      " 5   sqft_living    21613 non-null  int64  \n",
      " 6   sqft_lot       21613 non-null  int64  \n",
      " 7   floors         21613 non-null  float64\n",
      " 8   waterfront     21613 non-null  int64  \n",
      " 9   view           21613 non-null  int64  \n",
      " 10  condition      21613 non-null  int64  \n",
      " 11  grade          21613 non-null  int64  \n",
      " 12  sqft_above     21613 non-null  int64  \n",
      " 13  sqft_basement  21613 non-null  int64  \n",
      " 14  yr_built       21613 non-null  int64  \n",
      " 15  yr_renovated   21613 non-null  int64  \n",
      " 16  zipcode        21613 non-null  int64  \n",
      " 17  lat            21613 non-null  float64\n",
      " 18  long           21613 non-null  float64\n",
      " 19  sqft_living15  21613 non-null  int64  \n",
      " 20  sqft_lot15     21613 non-null  int64  \n",
      "dtypes: float64(5), int64(15), object(1)\n",
      "memory usage: 3.5+ MB\n"
     ]
    }
   ],
   "source": [
    "df.info()"
   ]
  },
  {
   "cell_type": "code",
   "execution_count": 9,
   "id": "60a167c7",
   "metadata": {},
   "outputs": [
    {
     "data": {
      "text/plain": [
       "id               0\n",
       "date             0\n",
       "price            0\n",
       "bedrooms         0\n",
       "bathrooms        0\n",
       "sqft_living      0\n",
       "sqft_lot         0\n",
       "floors           0\n",
       "waterfront       0\n",
       "view             0\n",
       "condition        0\n",
       "grade            0\n",
       "sqft_above       0\n",
       "sqft_basement    0\n",
       "yr_built         0\n",
       "yr_renovated     0\n",
       "zipcode          0\n",
       "lat              0\n",
       "long             0\n",
       "sqft_living15    0\n",
       "sqft_lot15       0\n",
       "dtype: int64"
      ]
     },
     "execution_count": 9,
     "metadata": {},
     "output_type": "execute_result"
    }
   ],
   "source": [
    "df.isnull().sum()"
   ]
  },
  {
   "cell_type": "markdown",
   "id": "d8819361",
   "metadata": {},
   "source": [
    "### Hence we have no missing data"
   ]
  },
  {
   "cell_type": "code",
   "execution_count": 10,
   "id": "a104040a",
   "metadata": {},
   "outputs": [
    {
     "data": {
      "text/plain": [
       "<AxesSubplot:xlabel='bedrooms', ylabel='price'>"
      ]
     },
     "execution_count": 10,
     "metadata": {},
     "output_type": "execute_result"
    },
    {
     "data": {
      "image/png": "[encoded data removed]",
      "text/plain": [
       "<Figure size 640x480 with 1 Axes>"
      ]
     },
     "metadata": {},
     "output_type": "display_data"
    }
   ],
   "source": [
    "sns.boxplot(data=df, x='bedrooms', y='price')"
   ]
  },
  {
   "cell_type": "markdown",
   "id": "adf517b5",
   "metadata": {},
   "source": [
    "# Splitting the Data for Training "
   ]
  },
  {
   "cell_type": "code",
   "execution_count": 11,
   "id": "33f62a66",
   "metadata": {},
   "outputs": [],
   "source": [
    "X = df.drop(['price', 'id', 'lat', 'long', 'date', 'zipcode','yr_built', 'yr_renovated'], axis=1)\n",
    "y = df['price']"
   ]
  },
  {
   "cell_type": "code",
   "execution_count": 12,
   "id": "5f55fdad",
   "metadata": {},
   "outputs": [
    {
     "data": {
      "text/html": [
       "<div>\n",
       "<style scoped>\n",
       "    .dataframe tbody tr th:only-of-type {\n",
       "        vertical-align: middle;\n",
       "    }\n",
       "\n",
       "    .dataframe tbody tr th {\n",
       "        vertical-align: top;\n",
       "    }\n",
       "\n",
       "    .dataframe thead th {\n",
       "        text-align: right;\n",
       "    }\n",
       "</style>\n",
       "<table border=\"1\" class=\"dataframe\">\n",
       "  <thead>\n",
       "    <tr style=\"text-align: right;\">\n",
       "      <th></th>\n",
       "      <th>bedrooms</th>\n",
       "      <th>bathrooms</th>\n",
       "      <th>sqft_living</th>\n",
       "      <th>sqft_lot</th>\n",
       "      <th>floors</th>\n",
       "      <th>waterfront</th>\n",
       "      <th>view</th>\n",
       "      <th>condition</th>\n",
       "      <th>grade</th>\n",
       "      <th>sqft_above</th>\n",
       "      <th>sqft_basement</th>\n",
       "      <th>sqft_living15</th>\n",
       "      <th>sqft_lot15</th>\n",
       "    </tr>\n",
       "  </thead>\n",
       "  <tbody>\n",
       "    <tr>\n",
       "      <th>0</th>\n",
       "      <td>3</td>\n",
       "      <td>1.00000</td>\n",
       "      <td>1180</td>\n",
       "      <td>5650</td>\n",
       "      <td>1.00000</td>\n",
       "      <td>0</td>\n",
       "      <td>0</td>\n",
       "      <td>3</td>\n",
       "      <td>7</td>\n",
       "      <td>1180</td>\n",
       "      <td>0</td>\n",
       "      <td>1340</td>\n",
       "      <td>5650</td>\n",
       "    </tr>\n",
       "    <tr>\n",
       "      <th>1</th>\n",
       "      <td>3</td>\n",
       "      <td>2.25000</td>\n",
       "      <td>2570</td>\n",
       "      <td>7242</td>\n",
       "      <td>2.00000</td>\n",
       "      <td>0</td>\n",
       "      <td>0</td>\n",
       "      <td>3</td>\n",
       "      <td>7</td>\n",
       "      <td>2170</td>\n",
       "      <td>400</td>\n",
       "      <td>1690</td>\n",
       "      <td>7639</td>\n",
       "    </tr>\n",
       "    <tr>\n",
       "      <th>2</th>\n",
       "      <td>2</td>\n",
       "      <td>1.00000</td>\n",
       "      <td>770</td>\n",
       "      <td>10000</td>\n",
       "      <td>1.00000</td>\n",
       "      <td>0</td>\n",
       "      <td>0</td>\n",
       "      <td>3</td>\n",
       "      <td>6</td>\n",
       "      <td>770</td>\n",
       "      <td>0</td>\n",
       "      <td>2720</td>\n",
       "      <td>8062</td>\n",
       "    </tr>\n",
       "    <tr>\n",
       "      <th>3</th>\n",
       "      <td>4</td>\n",
       "      <td>3.00000</td>\n",
       "      <td>1960</td>\n",
       "      <td>5000</td>\n",
       "      <td>1.00000</td>\n",
       "      <td>0</td>\n",
       "      <td>0</td>\n",
       "      <td>5</td>\n",
       "      <td>7</td>\n",
       "      <td>1050</td>\n",
       "      <td>910</td>\n",
       "      <td>1360</td>\n",
       "      <td>5000</td>\n",
       "    </tr>\n",
       "    <tr>\n",
       "      <th>4</th>\n",
       "      <td>3</td>\n",
       "      <td>2.00000</td>\n",
       "      <td>1680</td>\n",
       "      <td>8080</td>\n",
       "      <td>1.00000</td>\n",
       "      <td>0</td>\n",
       "      <td>0</td>\n",
       "      <td>3</td>\n",
       "      <td>8</td>\n",
       "      <td>1680</td>\n",
       "      <td>0</td>\n",
       "      <td>1800</td>\n",
       "      <td>7503</td>\n",
       "    </tr>\n",
       "    <tr>\n",
       "      <th>...</th>\n",
       "      <td>...</td>\n",
       "      <td>...</td>\n",
       "      <td>...</td>\n",
       "      <td>...</td>\n",
       "      <td>...</td>\n",
       "      <td>...</td>\n",
       "      <td>...</td>\n",
       "      <td>...</td>\n",
       "      <td>...</td>\n",
       "      <td>...</td>\n",
       "      <td>...</td>\n",
       "      <td>...</td>\n",
       "      <td>...</td>\n",
       "    </tr>\n",
       "    <tr>\n",
       "      <th>21608</th>\n",
       "      <td>3</td>\n",
       "      <td>2.50000</td>\n",
       "      <td>1530</td>\n",
       "      <td>1131</td>\n",
       "      <td>3.00000</td>\n",
       "      <td>0</td>\n",
       "      <td>0</td>\n",
       "      <td>3</td>\n",
       "      <td>8</td>\n",
       "      <td>1530</td>\n",
       "      <td>0</td>\n",
       "      <td>1530</td>\n",
       "      <td>1509</td>\n",
       "    </tr>\n",
       "    <tr>\n",
       "      <th>21609</th>\n",
       "      <td>4</td>\n",
       "      <td>2.50000</td>\n",
       "      <td>2310</td>\n",
       "      <td>5813</td>\n",
       "      <td>2.00000</td>\n",
       "      <td>0</td>\n",
       "      <td>0</td>\n",
       "      <td>3</td>\n",
       "      <td>8</td>\n",
       "      <td>2310</td>\n",
       "      <td>0</td>\n",
       "      <td>1830</td>\n",
       "      <td>7200</td>\n",
       "    </tr>\n",
       "    <tr>\n",
       "      <th>21610</th>\n",
       "      <td>2</td>\n",
       "      <td>0.75000</td>\n",
       "      <td>1020</td>\n",
       "      <td>1350</td>\n",
       "      <td>2.00000</td>\n",
       "      <td>0</td>\n",
       "      <td>0</td>\n",
       "      <td>3</td>\n",
       "      <td>7</td>\n",
       "      <td>1020</td>\n",
       "      <td>0</td>\n",
       "      <td>1020</td>\n",
       "      <td>2007</td>\n",
       "    </tr>\n",
       "    <tr>\n",
       "      <th>21611</th>\n",
       "      <td>3</td>\n",
       "      <td>2.50000</td>\n",
       "      <td>1600</td>\n",
       "      <td>2388</td>\n",
       "      <td>2.00000</td>\n",
       "      <td>0</td>\n",
       "      <td>0</td>\n",
       "      <td>3</td>\n",
       "      <td>8</td>\n",
       "      <td>1600</td>\n",
       "      <td>0</td>\n",
       "      <td>1410</td>\n",
       "      <td>1287</td>\n",
       "    </tr>\n",
       "    <tr>\n",
       "      <th>21612</th>\n",
       "      <td>2</td>\n",
       "      <td>0.75000</td>\n",
       "      <td>1020</td>\n",
       "      <td>1076</td>\n",
       "      <td>2.00000</td>\n",
       "      <td>0</td>\n",
       "      <td>0</td>\n",
       "      <td>3</td>\n",
       "      <td>7</td>\n",
       "      <td>1020</td>\n",
       "      <td>0</td>\n",
       "      <td>1020</td>\n",
       "      <td>1357</td>\n",
       "    </tr>\n",
       "  </tbody>\n",
       "</table>\n",
       "<p>21613 rows × 13 columns</p>\n",
       "</div>"
      ],
      "text/plain": [
       "       bedrooms  bathrooms  sqft_living  sqft_lot  floors  waterfront  view  \\\n",
       "0             3    1.00000         1180      5650 1.00000           0     0   \n",
       "1             3    2.25000         2570      7242 2.00000           0     0   \n",
       "2             2    1.00000          770     10000 1.00000           0     0   \n",
       "3             4    3.00000         1960      5000 1.00000           0     0   \n",
       "4             3    2.00000         1680      8080 1.00000           0     0   \n",
       "...         ...        ...          ...       ...     ...         ...   ...   \n",
       "21608         3    2.50000         1530      1131 3.00000           0     0   \n",
       "21609         4    2.50000         2310      5813 2.00000           0     0   \n",
       "21610         2    0.75000         1020      1350 2.00000           0     0   \n",
       "21611         3    2.50000         1600      2388 2.00000           0     0   \n",
       "21612         2    0.75000         1020      1076 2.00000           0     0   \n",
       "\n",
       "       condition  grade  sqft_above  sqft_basement  sqft_living15  sqft_lot15  \n",
       "0              3      7        1180              0           1340        5650  \n",
       "1              3      7        2170            400           1690        7639  \n",
       "2              3      6         770              0           2720        8062  \n",
       "3              5      7        1050            910           1360        5000  \n",
       "4              3      8        1680              0           1800        7503  \n",
       "...          ...    ...         ...            ...            ...         ...  \n",
       "21608          3      8        1530              0           1530        1509  \n",
       "21609          3      8        2310              0           1830        7200  \n",
       "21610          3      7        1020              0           1020        2007  \n",
       "21611          3      8        1600              0           1410        1287  \n",
       "21612          3      7        1020              0           1020        1357  \n",
       "\n",
       "[21613 rows x 13 columns]"
      ]
     },
     "execution_count": 12,
     "metadata": {},
     "output_type": "execute_result"
    }
   ],
   "source": [
    "X"
   ]
  },
  {
   "cell_type": "code",
   "execution_count": 13,
   "id": "f8297958",
   "metadata": {},
   "outputs": [
    {
     "data": {
      "text/plain": [
       "0       221900.00000\n",
       "1       538000.00000\n",
       "2       180000.00000\n",
       "3       604000.00000\n",
       "4       510000.00000\n",
       "            ...     \n",
       "21608   360000.00000\n",
       "21609   400000.00000\n",
       "21610   402101.00000\n",
       "21611   400000.00000\n",
       "21612   325000.00000\n",
       "Name: price, Length: 21613, dtype: float64"
      ]
     },
     "execution_count": 13,
     "metadata": {},
     "output_type": "execute_result"
    }
   ],
   "source": [
    "y"
   ]
  },
  {
   "cell_type": "markdown",
   "id": "4579a2f2",
   "metadata": {},
   "source": [
    "# Train | Test Split"
   ]
  },
  {
   "cell_type": "code",
   "execution_count": 14,
   "id": "a0cfe640",
   "metadata": {},
   "outputs": [],
   "source": [
    "from sklearn.model_selection import train_test_split\n",
    "X_train, X_test, y_train, y_test = train_test_split(X, y, test_size=0.25, random_state=101)  "
   ]
  },
  {
   "cell_type": "markdown",
   "id": "2ff70d50",
   "metadata": {},
   "source": [
    "# Normalization "
   ]
  },
  {
   "cell_type": "code",
   "execution_count": 15,
   "id": "8e947f91",
   "metadata": {},
   "outputs": [],
   "source": [
    "from sklearn.preprocessing import StandardScaler\n",
    "scaler = StandardScaler()\n",
    "scaled_X_train = scaler.fit_transform(X_train)\n",
    "scaled_X_test = scaler.transform(X_test)"
   ]
  },
  {
   "cell_type": "markdown",
   "id": "df7b2240",
   "metadata": {},
   "source": [
    "# Model Training  "
   ]
  },
  {
   "cell_type": "code",
   "execution_count": 16,
   "id": "e90ae98e",
   "metadata": {},
   "outputs": [],
   "source": [
    "from sklearn.linear_model import LinearRegression\n",
    "model = LinearRegression()\n",
    "model.fit(X_train, y_train)\n",
    "preds = model.predict(X_test)"
   ]
  },
  {
   "cell_type": "code",
   "execution_count": 17,
   "id": "96e39824",
   "metadata": {},
   "outputs": [
    {
     "data": {
      "text/plain": [
       "array([356776.02589279, 511927.33428644, 573736.52389147, ...,\n",
       "       824101.44697858, 437013.51415351, 731915.82170724])"
      ]
     },
     "execution_count": 17,
     "metadata": {},
     "output_type": "execute_result"
    }
   ],
   "source": [
    "preds"
   ]
  },
  {
   "cell_type": "code",
   "execution_count": 18,
   "id": "fe0600df",
   "metadata": {},
   "outputs": [
    {
     "data": {
      "text/plain": [
       "3834    349950.00000\n",
       "1348    450000.00000\n",
       "20366   635000.00000\n",
       "16617   355500.00000\n",
       "20925   246950.00000\n",
       "            ...     \n",
       "7148    738000.00000\n",
       "2747    726000.00000\n",
       "15565   560000.00000\n",
       "21238   299000.00000\n",
       "2333    555000.00000\n",
       "Name: price, Length: 5404, dtype: float64"
      ]
     },
     "execution_count": 18,
     "metadata": {},
     "output_type": "execute_result"
    }
   ],
   "source": [
    "y_test"
   ]
  },
  {
   "cell_type": "markdown",
   "id": "1ac210c4",
   "metadata": {},
   "source": [
    "### as we can see here our prediction is not accurate"
   ]
  },
  {
   "cell_type": "code",
   "execution_count": 19,
   "id": "b2bba5ba",
   "metadata": {},
   "outputs": [],
   "source": [
    "from sklearn.metrics import mean_absolute_error, mean_squared_error, r2_score  "
   ]
  },
  {
   "cell_type": "code",
   "execution_count": 20,
   "id": "e490ede6",
   "metadata": {},
   "outputs": [
    {
     "data": {
      "text/plain": [
       "151500.5360109005"
      ]
     },
     "execution_count": 20,
     "metadata": {},
     "output_type": "execute_result"
    }
   ],
   "source": [
    "mean_absolute_error(y_test, preds)"
   ]
  },
  {
   "cell_type": "code",
   "execution_count": 21,
   "id": "e2014c1d",
   "metadata": {},
   "outputs": [
    {
     "data": {
      "text/plain": [
       "0.6211653492243856"
      ]
     },
     "execution_count": 21,
     "metadata": {},
     "output_type": "execute_result"
    }
   ],
   "source": [
    "r2_score(y_test, preds)"
   ]
  },
  {
   "cell_type": "code",
   "execution_count": 22,
   "id": "18c3042d",
   "metadata": {},
   "outputs": [
    {
     "data": {
      "text/plain": [
       "231746.83599850896"
      ]
     },
     "execution_count": 22,
     "metadata": {},
     "output_type": "execute_result"
    }
   ],
   "source": [
    "np.sqrt(mean_squared_error(y_test, preds))"
   ]
  },
  {
   "cell_type": "code",
   "execution_count": 23,
   "id": "7b9f2e2d",
   "metadata": {},
   "outputs": [
    {
     "data": {
      "text/plain": [
       "bedrooms           3.00000\n",
       "bathrooms          1.75000\n",
       "sqft_living     1520.00000\n",
       "sqft_lot        5500.00000\n",
       "floors             1.50000\n",
       "waterfront         0.00000\n",
       "view               0.00000\n",
       "condition          5.00000\n",
       "grade              7.00000\n",
       "sqft_above      1520.00000\n",
       "sqft_basement      0.00000\n",
       "sqft_living15   2310.00000\n",
       "sqft_lot15      5500.00000\n",
       "Name: 7148, dtype: float64"
      ]
     },
     "execution_count": 23,
     "metadata": {},
     "output_type": "execute_result"
    }
   ],
   "source": [
    "X_test.loc[7148]"
   ]
  },
  {
   "cell_type": "code",
   "execution_count": 24,
   "id": "b43d49a0",
   "metadata": {},
   "outputs": [
    {
     "data": {
      "text/plain": [
       "array([464326.09387732])"
      ]
     },
     "execution_count": 24,
     "metadata": {},
     "output_type": "execute_result"
    }
   ],
   "source": [
    "model.predict([[3,1.75,1520,5500,1.5,0,0,5,7,1520,0,2310,5500]])"
   ]
  },
  {
   "cell_type": "code",
   "execution_count": 25,
   "id": "8fb504da",
   "metadata": {},
   "outputs": [],
   "source": [
    "import joblib"
   ]
  },
  {
   "cell_type": "code",
   "execution_count": 26,
   "id": "1a65eebc",
   "metadata": {},
   "outputs": [
    {
     "data": {
      "text/plain": [
       "['C:\\\\Users\\\\Admin\\\\OneDrive\\\\Desktop\\\\DS-ML Projects\\\\Predict house prices in King County USA using Machine Learning\\\\Model\\\\model.sav']"
      ]
     },
     "execution_count": 26,
     "metadata": {},
     "output_type": "execute_result"
    }
   ],
   "source": [
    "joblib.dump(model, r'C:\\Users\\Admin\\OneDrive\\Desktop\\DS-ML Projects\\Predict house prices in King County USA using Machine Learning\\Model\\model.sav')"
   ]
  },
  {
   "cell_type": "code",
   "execution_count": null,
   "id": "68bac3c8",
   "metadata": {},
   "outputs": [],
   "source": []
  }
 ],
 "metadata": {
  "kernelspec": {
   "display_name": "Python 3 (ipykernel)",
   "language": "python",
   "name": "python3"
  },
  "language_info": {
   "codemirror_mode": {
    "name": "ipython",
    "version": 3
   },
   "file_extension": ".py",
   "mimetype": "text/x-python",
   "name": "python",
   "nbconvert_exporter": "python",
   "pygments_lexer": "ipython3",
   "version": "3.9.12"
  }
 },
 "nbformat": 4,
 "nbformat_minor": 5
}
